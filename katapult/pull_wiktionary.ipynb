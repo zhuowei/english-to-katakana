{
 "cells": [
  {
   "cell_type": "code",
   "execution_count": 205,
   "metadata": {},
   "outputs": [],
   "source": [
    "from bs4 import BeautifulSoup\n",
    "from bs4.element import Tag\n",
    "import requests\n",
    "from urllib.parse import urljoin\n",
    "import re\n",
    "import json\n",
    "import multiprocessing\n",
    "import traceback"
   ]
  },
  {
   "cell_type": "code",
   "execution_count": 216,
   "metadata": {},
   "outputs": [],
   "source": [
    "crawl_headers = {\"User-Agent\" : \"Katapult/0.1 (github.com/zhuowei/english-to-katakana)\"}"
   ]
  },
  {
   "cell_type": "code",
   "execution_count": 74,
   "metadata": {},
   "outputs": [],
   "source": [
    "# Yes I know MediaWiki has a Query API\n",
    "def pull_all_from_category(nexturl):\n",
    "    out = []\n",
    "    while True:\n",
    "        print(nexturl)\n",
    "        req = requests.get(nexturl, headers=crawl_headers)\n",
    "        req.raise_for_status()\n",
    "        bs = BeautifulSoup(req.content, 'html.parser')\n",
    "        alllinks = bs.find(\"div\", \"mw-category\").find_all(\"a\")\n",
    "        out += [a.string for a in alllinks]\n",
    "        next_page = bs.find(\"a\", string=\"next page\")\n",
    "        if not next_page:\n",
    "            break\n",
    "        nexturl = urljoin(nexturl, next_page[\"href\"])\n",
    "    return out"
   ]
  },
  {
   "cell_type": "code",
   "execution_count": 75,
   "metadata": {},
   "outputs": [
    {
     "name": "stdout",
     "output_type": "stream",
     "text": [
      "https://en.wiktionary.org/wiki/Category:Japanese_terms_borrowed_from_English\n",
      "https://en.wiktionary.org/w/index.php?title=Category:Japanese_terms_borrowed_from_English&pagefrom=%E3%81%84%E3%82%93%E3%81%9F%E3%81%B3%E3%82%85%E3%81%82%E3%81%82%0A%E3%82%A4%E3%83%B3%E3%82%BF%E3%83%93%E3%83%A5%E3%82%A2%E3%83%BC#mw-pages\n",
      "https://en.wiktionary.org/w/index.php?title=Category:Japanese_terms_borrowed_from_English&pagefrom=%E3%81%8B%E3%81%AA%E3%81%A7%E3%81%83%E3%81%82%E3%82%93%E3%81%B5%E3%81%A3%E3%81%A8%E3%81%BC%E3%81%8A%E3%82%8B%0A%E3%82%AB%E3%83%8A%E3%83%87%E3%82%A3%E3%82%A2%E3%83%B3%E3%83%95%E3%83%83%E3%83%88%E3%83%9C%E3%83%BC%E3%83%AB#mw-pages\n",
      "https://en.wiktionary.org/w/index.php?title=Category:Japanese_terms_borrowed_from_English&pagefrom=%E3%81%91%E3%81%A8%E3%82%93%0A%E3%82%B1%E3%83%88%E3%83%B3#mw-pages\n",
      "https://en.wiktionary.org/w/index.php?title=Category:Japanese_terms_borrowed_from_English&pagefrom=%E3%81%97%E3%82%83%E3%81%90%E3%82%8A%E3%82%93%E3%81%90%27%0A%E3%82%B8%E3%83%A3%E3%82%B0%E3%83%AA%E3%83%B3%E3%82%B0#mw-pages\n",
      "https://en.wiktionary.org/w/index.php?title=Category:Japanese_terms_borrowed_from_English&pagefrom=%E3%81%9B%E3%82%8B%0A%E3%82%BB%E3%83%AB#mw-pages\n",
      "https://en.wiktionary.org/w/index.php?title=Category:Japanese_terms_borrowed_from_English&pagefrom=%E3%81%A6%E3%82%8A%E3%81%B0%E3%82%8A%27%0A%E3%83%87%E3%83%AA%E3%83%90%E3%83%AA%E3%83%BC#mw-pages\n",
      "https://en.wiktionary.org/w/index.php?title=Category:Japanese_terms_borrowed_from_English&pagefrom=%E3%81%AF%E3%81%82%E3%81%B5%0A%E3%83%8F%E3%83%BC%E3%83%95#mw-pages\n",
      "https://en.wiktionary.org/w/index.php?title=Category:Japanese_terms_borrowed_from_English&pagefrom=%E3%81%B2%E3%82%93%E3%81%93%27%0A%E3%83%93%E3%83%B3%E3%82%B4#mw-pages\n",
      "https://en.wiktionary.org/w/index.php?title=Category:Japanese_terms_borrowed_from_English&pagefrom=%E3%81%B8%E3%81%88%E3%81%B1%E3%81%82%E3%81%B0%E3%81%A3%E3%81%8F%27%27%0A%E3%83%9A%E3%83%BC%E3%83%91%E3%83%BC%E3%83%90%E3%83%83%E3%82%AF#mw-pages\n",
      "https://en.wiktionary.org/w/index.php?title=Category:Japanese_terms_borrowed_from_English&pagefrom=%E3%81%BE%E3%82%8C%E3%81%88%0A%E9%A6%AC%E6%9D%A5#mw-pages\n",
      "https://en.wiktionary.org/w/index.php?title=Category:Japanese_terms_borrowed_from_English&pagefrom=%E3%82%8B%E3%81%86%E3%81%8F%0A%E3%83%AB%E3%83%BC%E3%82%AF#mw-pages\n",
      "https://en.wiktionary.org/w/index.php?title=Category:Japanese_terms_borrowed_from_English&pagefrom=%E3%82%AD%E3%83%A3%E3%82%B9%E3%83%86%E3%82%A3%E3%83%B3%E3%82%B0#mw-pages\n",
      "https://en.wiktionary.org/w/index.php?title=Category:Japanese_terms_borrowed_from_English&pagefrom=%E3%83%87%E3%82%A3%E3%83%BC%E3%83%97%E3%83%95%E3%83%A9%E3%82%A4%E3%83%A4%E3%83%BC#mw-pages\n",
      "https://en.wiktionary.org/w/index.php?title=Category:Japanese_terms_borrowed_from_English&pagefrom=%E3%83%9E%E3%82%B9%E3%82%BF%E3%83%BC%E3%83%97%E3%83%A9%E3%83%B3#mw-pages\n"
     ]
    }
   ],
   "source": [
    "all_words = pull_all_from_category(\"https://en.wiktionary.org/wiki/Category:Japanese_terms_borrowed_from_English\")"
   ]
  },
  {
   "cell_type": "code",
   "execution_count": 184,
   "metadata": {},
   "outputs": [],
   "source": [
    "non_katakana_regex = re.compile(\"[^ァ-ンー・ヴ゠]\")"
   ]
  },
  {
   "cell_type": "code",
   "execution_count": 174,
   "metadata": {},
   "outputs": [],
   "source": [
    "def filter_func(w):\n",
    "    # Keep only words made entirely out of katakana. This excludes 28 mixed words.\n",
    "    return non_katakana_regex.search(w) == None"
   ]
  },
  {
   "cell_type": "code",
   "execution_count": 175,
   "metadata": {},
   "outputs": [
    {
     "data": {
      "text/plain": [
       "False"
      ]
     },
     "execution_count": 175,
     "metadata": {},
     "output_type": "execute_result"
    }
   ],
   "source": [
    "filter_func(\"キット狐\")"
   ]
  },
  {
   "cell_type": "code",
   "execution_count": 176,
   "metadata": {},
   "outputs": [
    {
     "data": {
      "text/plain": [
       "True"
      ]
     },
     "execution_count": 176,
     "metadata": {},
     "output_type": "execute_result"
    }
   ],
   "source": [
    "filter_func(\"キャッシュディスペンサー\")"
   ]
  },
  {
   "cell_type": "code",
   "execution_count": 181,
   "metadata": {},
   "outputs": [],
   "source": [
    "non_katakana_regex.search(\"ヴァニタス\")"
   ]
  },
  {
   "cell_type": "code",
   "execution_count": 199,
   "metadata": {},
   "outputs": [],
   "source": [
    "all_words_removed = [a for a in all_words if not filter_func(a)]\n",
    "all_words_filtered = [str(a) for a in all_words if filter_func(a)]"
   ]
  },
  {
   "cell_type": "code",
   "execution_count": 200,
   "metadata": {},
   "outputs": [
    {
     "data": {
      "text/plain": [
       "['3Dプリンタ',\n",
       " '3P',\n",
       " 'by',\n",
       " 'CA',\n",
       " 'CPU',\n",
       " 'DV',\n",
       " 'G',\n",
       " 'GUI',\n",
       " 'HDTV',\n",
       " 'ISBN',\n",
       " 'kango',\n",
       " 'LCD',\n",
       " 'LDK',\n",
       " 'LGBT',\n",
       " 'NATO',\n",
       " 'OK',\n",
       " 'OS',\n",
       " 'Photoshop',\n",
       " 'RAM',\n",
       " 'ROM',\n",
       " 'RT',\n",
       " 'S',\n",
       " 'siat-to͘h',\n",
       " 'SOS',\n",
       " 'UFO',\n",
       " 'Uターン',\n",
       " 'VR',\n",
       " 'Web',\n",
       " 'Windows',\n",
       " 'RNA',\n",
       " 'RPG',\n",
       " 'IMF',\n",
       " 'IQ',\n",
       " 'ICBM',\n",
       " 'IPアドレス',\n",
       " 'ASEAN',\n",
       " 'ESP',\n",
       " 'eメール',\n",
       " 'ヴァージン諸島',\n",
       " 'web',\n",
       " 'AIDS',\n",
       " 'AI',\n",
       " 'SI',\n",
       " 'HIV',\n",
       " 'FBI',\n",
       " '加奈陀',\n",
       " '広東',\n",
       " 'キット狐',\n",
       " 'CAD',\n",
       " '玖馬',\n",
       " 'ググる',\n",
       " '倶楽部',\n",
       " 'Xマス',\n",
       " '珈琲',\n",
       " 'ココ椰子',\n",
       " 'CIA',\n",
       " 'GNP',\n",
       " 'CD',\n",
       " 'GDP',\n",
       " 'CD-ROM',\n",
       " 'しゃべる',\n",
       " '茉莉',\n",
       " 'スイフト狐',\n",
       " '蘇格蘭',\n",
       " 'スプラトリー群島',\n",
       " '西班牙',\n",
       " '仙',\n",
       " '台北',\n",
       " 'WHO',\n",
       " 'WTO',\n",
       " 'DNA',\n",
       " 'TNT',\n",
       " 'Tシャツ',\n",
       " 'DJ',\n",
       " 'DTP',\n",
       " 'DVD',\n",
       " 'DVD-ROM',\n",
       " 'ドット積',\n",
       " '蕃茄',\n",
       " '新西蘭',\n",
       " '浬',\n",
       " 'Pascal',\n",
       " 'PTA',\n",
       " 'PR',\n",
       " 'PTSD',\n",
       " 'Vサイン',\n",
       " '北京ダック',\n",
       " '香港',\n",
       " '馬来',\n",
       " '墨西哥',\n",
       " 'UNICEF',\n",
       " 'UNESCO',\n",
       " '洋灯',\n",
       " '倫敦',\n",
       " '華盛頓',\n",
       " 'ワシントンD.C.',\n",
       " 'ギャル文字',\n",
       " '冗句',\n",
       " '垢',\n",
       " '瓦',\n",
       " '瓦斯',\n",
       " '頁']"
      ]
     },
     "execution_count": 200,
     "metadata": {},
     "output_type": "execute_result"
    }
   ],
   "source": [
    "all_words_removed"
   ]
  },
  {
   "cell_type": "code",
   "execution_count": 188,
   "metadata": {},
   "outputs": [],
   "source": [
    "# fetch the English words corresponding to the Japanese words.\n",
    "# ends_with_english = re.compile(r\"#English$\")\n",
    "starts_with_etymology = re.compile(r\"Etymology\")\n",
    "\n",
    "def hunt1(etymelems):\n",
    "    etym = next(a for a in etymelems if type(a) == Tag and a.name == \"p\")\n",
    "    #print(etym)\n",
    "    if etym:\n",
    "        #print(etym.find_all(\"a\"))\n",
    "        h = etym.find(lang=\"en\")\n",
    "        if h:\n",
    "            return h.get_text()\n",
    "    return None\n",
    "def english_for_japanese(w):\n",
    "    # print(w)\n",
    "    url = \"https://en.wiktionary.org/wiki/\" + w\n",
    "    req = requests.get(url, headers=crawl_headers)\n",
    "    req.raise_for_status()\n",
    "    bs = BeautifulSoup(req.content, 'html.parser')\n",
    "    jpelems = bs.find(id=\"Japanese\").parent.next_siblings\n",
    "    all_etyms = [a.find(id=starts_with_etymology) for a in jpelems if type(a) == Tag and a.find(id=starts_with_etymology) != None]\n",
    "    for etymelem in all_etyms:\n",
    "        out = hunt1(etymelem.parent.next_siblings)\n",
    "        if out:\n",
    "            return out\n",
    "\n",
    "    raise Exception(\"what?!\" + w)"
   ]
  },
  {
   "cell_type": "code",
   "execution_count": 189,
   "metadata": {},
   "outputs": [
    {
     "data": {
      "text/plain": [
       "'internet'"
      ]
     },
     "execution_count": 189,
     "metadata": {},
     "output_type": "execute_result"
    }
   ],
   "source": [
    "english_for_japanese(\"インターネット\")"
   ]
  },
  {
   "cell_type": "code",
   "execution_count": 190,
   "metadata": {},
   "outputs": [
    {
     "data": {
      "text/plain": [
       "'ar'"
      ]
     },
     "execution_count": 190,
     "metadata": {},
     "output_type": "execute_result"
    }
   ],
   "source": [
    "english_for_japanese(\"アール\")"
   ]
  },
  {
   "cell_type": "code",
   "execution_count": 210,
   "metadata": {},
   "outputs": [],
   "source": [
    "def fetch_eng_and_jp(a):\n",
    "    a = str(a)\n",
    "    try:\n",
    "        return (a, str(english_for_japanese(a)))\n",
    "    except:\n",
    "        traceback.print_exc()\n",
    "        return None"
   ]
  },
  {
   "cell_type": "code",
   "execution_count": 211,
   "metadata": {},
   "outputs": [
    {
     "name": "stderr",
     "output_type": "stream",
     "text": [
      "Traceback (most recent call last):\n",
      "  File \"<ipython-input-210-9bcbf25b30b3>\", line 4, in fetch_eng_and_jp\n",
      "    return (a, str(english_for_japanese(a)))\n",
      "  File \"<ipython-input-188-b81fb101895d>\", line 27, in english_for_japanese\n",
      "    raise Exception(\"what?!\" + w)\n",
      "Exception: what?!ホキ\n"
     ]
    }
   ],
   "source": [
    "fetch_eng_and_jp(\"ホキ\")"
   ]
  },
  {
   "cell_type": "code",
   "execution_count": 212,
   "metadata": {},
   "outputs": [
    {
     "name": "stderr",
     "output_type": "stream",
     "text": [
      "Traceback (most recent call last):\n",
      "  File \"<ipython-input-210-9bcbf25b30b3>\", line 4, in fetch_eng_and_jp\n",
      "    return (a, str(english_for_japanese(a)))\n",
      "  File \"<ipython-input-188-b81fb101895d>\", line 27, in english_for_japanese\n",
      "    raise Exception(\"what?!\" + w)\n",
      "Exception: what?!ホキ\n",
      "Traceback (most recent call last):\n",
      "  File \"<ipython-input-210-9bcbf25b30b3>\", line 4, in fetch_eng_and_jp\n",
      "    return (a, str(english_for_japanese(a)))\n",
      "  File \"<ipython-input-188-b81fb101895d>\", line 27, in english_for_japanese\n",
      "    raise Exception(\"what?!\" + w)\n",
      "Exception: what?!ホンコン\n",
      "Traceback (most recent call last):\n",
      "  File \"<ipython-input-210-9bcbf25b30b3>\", line 4, in fetch_eng_and_jp\n",
      "    return (a, str(english_for_japanese(a)))\n",
      "  File \"<ipython-input-188-b81fb101895d>\", line 27, in english_for_japanese\n",
      "    raise Exception(\"what?!\" + w)\n",
      "Exception: what?!コンリー\n",
      "Traceback (most recent call last):\n",
      "  File \"<ipython-input-210-9bcbf25b30b3>\", line 4, in fetch_eng_and_jp\n",
      "    return (a, str(english_for_japanese(a)))\n",
      "  File \"<ipython-input-188-b81fb101895d>\", line 27, in english_for_japanese\n",
      "    raise Exception(\"what?!\" + w)\n",
      "Exception: what?!プレミア\n",
      "Traceback (most recent call last):\n",
      "  File \"<ipython-input-210-9bcbf25b30b3>\", line 4, in fetch_eng_and_jp\n",
      "    return (a, str(english_for_japanese(a)))\n",
      "  File \"<ipython-input-188-b81fb101895d>\", line 27, in english_for_japanese\n",
      "    raise Exception(\"what?!\" + w)\n",
      "Exception: what?!スチール\n"
     ]
    }
   ],
   "source": [
    "with multiprocessing.Pool(20) as pool:\n",
    "    english_japanese_map = list(pool.map(fetch_eng_and_jp, all_words_filtered))"
   ]
  },
  {
   "cell_type": "code",
   "execution_count": 215,
   "metadata": {},
   "outputs": [],
   "source": [
    "with open(\"en_to_jp.json\", \"w\") as outfile:\n",
    "    json.dump(english_japanese_map, outfile, ensure_ascii=False, indent=0)"
   ]
  },
  {
   "cell_type": "code",
   "execution_count": null,
   "metadata": {},
   "outputs": [],
   "source": []
  }
 ],
 "metadata": {
  "kernelspec": {
   "display_name": "Python 3",
   "language": "python",
   "name": "python3"
  },
  "language_info": {
   "codemirror_mode": {
    "name": "ipython",
    "version": 3
   },
   "file_extension": ".py",
   "mimetype": "text/x-python",
   "name": "python",
   "nbconvert_exporter": "python",
   "pygments_lexer": "ipython3",
   "version": "3.7.3"
  }
 },
 "nbformat": 4,
 "nbformat_minor": 2
}
